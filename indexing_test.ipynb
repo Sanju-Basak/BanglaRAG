{
 "cells": [
  {
   "cell_type": "code",
   "execution_count": 1,
   "metadata": {},
   "outputs": [],
   "source": [
    "import os\n",
    "os.environ['MKL_THREADING_LAYER'] = 'GNU'\n",
    "os.environ[\"OPENAI_API_KEY\"] = \"sk-\" # dummy key"
   ]
  },
  {
   "cell_type": "code",
   "execution_count": 58,
   "metadata": {},
   "outputs": [],
   "source": [
    "from datasets import load_dataset\n",
    "from normalizer import normalize\n",
    "from llama_index.legacy.readers.string_iterable import StringIterableReader\n",
    "from llama_index.legacy.indices.managed.colbert_index import ColbertIndex\n",
    "from llama_index.legacy.evaluation.retrieval.evaluator import RetrieverEvaluator\n",
    "from llama_index.legacy.finetuning.embeddings.common import EmbeddingQAFinetuneDataset\n",
    "from llama_index.legacy import SimpleDirectoryReader\n",
    "from llama_index.legacy.node_parser import SentenceSplitter"
   ]
  },
  {
   "cell_type": "code",
   "execution_count": 3,
   "metadata": {},
   "outputs": [],
   "source": [
    "class CustomSentenceSplitter(SentenceSplitter):\n",
    "    def _split_text(self, text: str, chunk_size: int):\n",
    "        \n",
    "        text_splits = text.split(self.paragraph_separator)\n",
    "\n",
    "        return text_splits"
   ]
  },
  {
   "cell_type": "code",
   "execution_count": 4,
   "metadata": {},
   "outputs": [],
   "source": [
    "COLBERT_CHECKPOINT_PATH = \".ragatouille/colbert/train/2024-06/15/10.11.21/checkpoints/colbert-20000\""
   ]
  },
  {
   "cell_type": "code",
   "execution_count": null,
   "metadata": {},
   "outputs": [],
   "source": []
  },
  {
   "cell_type": "code",
   "execution_count": 59,
   "metadata": {},
   "outputs": [],
   "source": [
    "dataset = load_dataset(\"csebuetnlp/squad_bn\", split=\"test\")\n",
    "# dataset = dataset.map(lambda x: {\"context\": normalize(x[\"context\"]), \"question\": normalize(x[\"question\"]), \"answers\": x[\"answers\"]})"
   ]
  },
  {
   "cell_type": "code",
   "execution_count": 64,
   "metadata": {},
   "outputs": [
    {
     "name": "stdout",
     "output_type": "stream",
     "text": [
      "নভেম্বর, ২০১৩ সালে রাজনৈতিক সঙ্কট ঘণীভূত হতে শুরু করলে ও ইংলাক সিনাওয়াত্রা’র তত্ত্বাবধায়ক সরকারের বিপক্ষে প্রতিবাদ হতে থাকলে প্রযুত সেনাবাহিনীকে নিরপেক্ষ অবস্থানে থাকার কথা ঘোষণা করেন।[16] এছাড়াও তিনি অভ্যুত্থান ঘটাবেন না বলে সিদ্ধান্ত নেন। কিন্তু, মে, ২০১৪ সালে সরকারের বিরুদ্ধে অপ্রত্যাশিতভাবে সামরিক অভ্যুত্থান পরিচালনায় নেতৃত্ব দেন ও এনসিপিও নেতাদের নিয়ে দেশের নিয়ন্ত্রণভার দখল করেন।[17] পরবর্তীতে তিনি অন্তর্বর্তীকালীন সংবিধানে ক্ষমতার বিষয়ে স্বাক্ষর দেন ও অভ্যুত্থানের ফলে নিজেকে নির্দোষ দাবী করেন।[18] আগস্ট, ২০১৪ সালে জাতীয় আইনসভায় তাঁর নিয়ন্ত্রণাধীন সামরিক বাহিনীর সদস্যদের প্রভাব বৃদ্ধি করেন। সদস্যরা তাঁকে থাইল্যান্ডের নতুন প্রধানমন্ত্রী হিসেবে নির্বাচিত করে।[19][20] ২৪ আগস্ট, ২০১৪ তারিখে তাঁকে আনুষ্ঠানিকভাবে প্রধানমন্ত্রী হিসেবে ঘোষণা করা হয়। অক্টোবর, ২০১৪ তারিখে সেনাপ্রধানের পদ থেকে অবসর নেয়ার পূর্বে তিনি একই সময়ে সেনাপ্রধান, এনসিপিও নেতা ও প্রধানমন্ত্রী - এ তিন পদ ধারণ করেছিলেন।\n",
      "নভেম্বর, ২০১৩ সালে রাজনৈতিক সঙ্কট ঘণীভূত হতে শুরু করলে ও ইংলাক সিনাওয়াত্রা'র তত্ত্বাবধায়ক সরকারের বিপক্ষে প্রতিবাদ হতে থাকলে প্রযুত সেনাবাহিনীকে নিরপেক্ষ অবস্থানে থাকার কথা ঘোষণা করেন।[16] এছাড়াও তিনি অভ্যুত্থান ঘটাবেন না বলে সিদ্ধান্ত নেন। কিন্তু, মে, ২০১৪ সালে সরকারের বিরুদ্ধে অপ্রত্যাশিতভাবে সামরিক অভ্যুত্থান পরিচালনায় নেতৃত্ব দেন ও এনসিপিও নেতাদের নিয়ে দেশের নিয়ন্ত্রণভার দখল করেন।[17] পরবর্তীতে তিনি অন্তর্বর্তীকালীন সংবিধানে ক্ষমতার বিষয়ে স্বাক্ষর দেন ও অভ্যুত্থানের ফলে নিজেকে নির্দোষ দাবী করেন।[18] আগস্ট, ২০১৪ সালে জাতীয় আইনসভায় তাঁর নিয়ন্ত্রণাধীন সামরিক বাহিনীর সদস্যদের প্রভাব বৃদ্ধি করেন। সদস্যরা তাঁকে থাইল্যান্ডের নতুন প্রধানমন্ত্রী হিসেবে নির্বাচিত করে।[19][20] ২৪ আগস্ট, ২০১৪ তারিখে তাঁকে আনুষ্ঠানিকভাবে প্রধানমন্ত্রী হিসেবে ঘোষণা করা হয়। অক্টোবর, ২০১৪ তারিখে সেনাপ্রধানের পদ থেকে অবসর নেয়ার পূর্বে তিনি একই সময়ে সেনাপ্রধান, এনসিপিও নেতা ও প্রধানমন্ত্রী - এ তিন পদ ধারণ করেছিলেন।\n"
     ]
    }
   ],
   "source": [
    "for i in range(100,len(dataset)):\n",
    "    passage= dataset[\"context\"][i]\n",
    "    if passage != normalize(passage):\n",
    "        print(passage)\n",
    "        print(normalize(passage))\n",
    "        break"
   ]
  },
  {
   "cell_type": "code",
   "execution_count": 6,
   "metadata": {},
   "outputs": [],
   "source": [
    "collection = list(set(dataset[\"context\"]))\n",
    "documents = StringIterableReader().load_data(texts=collection)"
   ]
  },
  {
   "cell_type": "code",
   "execution_count": 7,
   "metadata": {},
   "outputs": [],
   "source": [
    "delimiter= \"andolon\"  # Define your delimiter here\n",
    "joined_collection = delimiter.join(collection)"
   ]
  },
  {
   "cell_type": "code",
   "execution_count": 8,
   "metadata": {},
   "outputs": [],
   "source": [
    "!mkdir -p 'data/squad_bn/'"
   ]
  },
  {
   "cell_type": "code",
   "execution_count": 9,
   "metadata": {},
   "outputs": [],
   "source": [
    "file_path = \"data/squad_bn/joined_collections.txt\"  # Specify the file path here\n",
    "\n",
    "# Write the joined string to the file\n",
    "with open(file_path, \"w\") as file:\n",
    "    file.write(joined_collection)"
   ]
  },
  {
   "cell_type": "code",
   "execution_count": 10,
   "metadata": {},
   "outputs": [],
   "source": [
    "documents = SimpleDirectoryReader(\"./data/squad_bn/\").load_data()"
   ]
  },
  {
   "cell_type": "code",
   "execution_count": 11,
   "metadata": {},
   "outputs": [],
   "source": [
    "node_parser = CustomSentenceSplitter(paragraph_separator= delimiter)\n",
    "nodes = node_parser.get_nodes_from_documents(documents)"
   ]
  },
  {
   "cell_type": "code",
   "execution_count": 12,
   "metadata": {},
   "outputs": [],
   "source": [
    "for idx, node in enumerate(nodes):\n",
    "    node.id_ = f\"node_{idx}\""
   ]
  },
  {
   "cell_type": "code",
   "execution_count": 13,
   "metadata": {},
   "outputs": [
    {
     "name": "stdout",
     "output_type": "stream",
     "text": [
      "\n",
      "\n",
      "[Jun 25, 13:07:57] #> Note: Output directory storage/colbert_index/ already exists\n",
      "\n",
      "\n",
      "#> Starting...\n",
      "nranks = 1 \t num_gpus = 1 \t device=0\n",
      "{\n",
      "    \"query_token_id\": \"[unused0]\",\n",
      "    \"doc_token_id\": \"[unused1]\",\n",
      "    \"query_token\": \"[Q]\",\n",
      "    \"doc_token\": \"[D]\",\n",
      "    \"ncells\": null,\n",
      "    \"centroid_score_threshold\": null,\n",
      "    \"ndocs\": null,\n",
      "    \"load_index_with_mmap\": false,\n",
      "    \"index_path\": null,\n",
      "    \"index_bsize\": 64,\n",
      "    \"nbits\": 2,\n",
      "    \"kmeans_niters\": 4,\n",
      "    \"resume\": false,\n",
      "    \"similarity\": \"cosine\",\n",
      "    \"bsize\": 64,\n",
      "    \"accumsteps\": 1,\n",
      "    \"lr\": 3e-5,\n",
      "    \"maxsteps\": 500000,\n",
      "    \"save_every\": 7367,\n",
      "    \"warmup\": 7367,\n",
      "    \"warmup_bert\": null,\n",
      "    \"relu\": false,\n",
      "    \"nway\": 2,\n",
      "    \"use_ib_negatives\": true,\n",
      "    \"reranker\": false,\n",
      "    \"distillation_alpha\": 1.0,\n",
      "    \"ignore_scores\": false,\n",
      "    \"model_name\": \"l3cube_pune\",\n",
      "    \"query_maxlen\": 128,\n",
      "    \"attend_to_mask_tokens\": false,\n",
      "    \"interaction\": \"colbert\",\n",
      "    \"dim\": 128,\n",
      "    \"doc_maxlen\": 512,\n",
      "    \"mask_punctuation\": true,\n",
      "    \"checkpoint\": \".ragatouille\\/colbert\\/train\\/2024-06\\/15\\/10.11.21\\/checkpoints\\/colbert-20000\",\n",
      "    \"triples\": \"data\\/triples.train.colbert.jsonl\",\n",
      "    \"collection\": [\n",
      "        \"list with 2249 elements starting with...\",\n",
      "        [\n",
      "            \"\\u09b8\\u09c1\\u09ad\\u09be\\u09b7\\u099a\\u09a8\\u09cd\\u09a6\\u09cd\\u09b0 \\u09ac\\u09b8\\u09c1\\u09b0 \\u09b8\\u09ac\\u099a\\u09c7\\u09af\\u09bc\\u09c7 \\u09ac\\u09bf\\u0996\\u09cd\\u09af\\u09be\\u09a4 \\u0989\\u0995\\u09cd\\u09a4\\u09bf \\u09b9\\u09b2, \\\"\\u09a4\\u09cb\\u09ae\\u09b0\\u09be \\u0986\\u09ae\\u09be\\u0995\\u09c7 \\u09b0\\u0995\\u09cd\\u09a4 \\u09a6\\u09be\\u0993, \\u0986\\u09ae\\u09bf \\u09a4\\u09cb\\u09ae\\u09be\\u09a6\\u09c7\\u09b0 \\u09b8\\u09cd\\u09ac\\u09be\\u09a7\\u09c0\\u09a8\\u09a4\\u09be \\u09a6\\u09c7\\u09ac\\\" (\\u09b9\\u09bf\\u09a8\\u09cd\\u09a6\\u09bf\\u09a4\\u09c7, \\u09a4\\u09c1\\u09ae \\u09ae\\u09c1\\u099d\\u09c7 \\u0996\\u09c1\\u09a8 \\u09a6\\u09cb, \\u09ae\\u09cd\\u09af\\u09be\\u09af\\u09bc \\u09a4\\u09c1\\u09ae\\u09b9\\u09c7 \\u0986\\u099c\\u09be\\u09a6\\u09bf \\u09a6\\u09c1\\u0999\\u09cd\\u0997\\u09be)\\u0964 \\u09ea \\u099c\\u09c1\\u09b2\\u09be\\u0987 \\u09e7\\u09ef\\u09ea\\u09ea \\u0996\\u09cd\\u09b0\\u09bf\\u09b8\\u09cd\\u099f\\u09be\\u09ac\\u09cd\\u09a6\\u09c7 \\u09ac\\u09be\\u09b0\\u09cd\\u09ae\\u09be\\u09a4\\u09c7 \\u098f\\u0995 \\u09b0\\u200c\\u09cd\\u09af\\u09be\\u09b2\\u09bf\\u09a4\\u09c7 \\u09a4\\u09bf\\u09a8\\u09bf \\u098f\\u0987 \\u0989\\u0995\\u09cd\\u09a4\\u09bf \\u0995\\u09b0\\u09c7\\u09a8\\u0964 \\u09a4\\u09be\\u0981\\u09b0 \\u0986\\u09b0 \\u098f\\u0995\\u099f\\u09bf \\u09ac\\u09bf\\u0996\\u09cd\\u09af\\u09be\\u09a4 \\u0989\\u0995\\u09cd\\u09a4\\u09bf \\u09b9\\u09b2 '\\u09ad\\u09be\\u09b0\\u09a4\\u09c7\\u09b0 \\u099c\\u09af\\u09bc' ('\\u099c\\u09af\\u09bc \\u09b9\\u09bf\\u09a8\\u09cd\\u09a6'), \\u09af\\u09be \\u0995\\u09bf\\u09a8\\u09be \\u09aa\\u09b0\\u09ac\\u09b0\\u09cd\\u09a4\\u09c0\\u09a4\\u09c7 \\u09ad\\u09be\\u09b0\\u09a4 \\u09b8\\u09b0\\u0995\\u09be\\u09b0 \\u0997\\u09cd\\u09b0\\u09b9\\u09a3 \\u0995\\u09b0\\u09c7 \\u09a8\\u09c7\\u09af\\u09bc\\u0964\",\n",
      "            \"\\u0995\\u09a8\\u09ab\\u09c1\\u09b8\\u09c0\\u09af\\u09bc \\u09a7\\u09b0\\u09cd\\u09ae (\\u09b8\\u09b0\\u09b2\\u09c0\\u0995\\u09c3\\u09a4 \\u099a\\u09c0\\u09a8\\u09be: \\u5112\\u5b66; \\u0990\\u09a4\\u09bf\\u09b9\\u09cd\\u09af\\u09ac\\u09be\\u09b9\\u09c0 \\u099a\\u09c0\\u09a8\\u09be: \\u5112\\u5b78; \\u09aa\\u09bf\\u09a8\\u09af\\u09bc\\u09bf\\u09a8: Ruxue [ \\u098f\\u0987 \\u09b6\\u09ac\\u09cd\\u09a6 \\u09b8\\u09ae\\u09cd\\u09aa\\u09b0\\u09cd\\u0995\\u09c7 Listen ]) \\u099a\\u09c0\\u09a8\\u09c7\\u09b0 \\u098f\\u0995\\u099f\\u09bf \\u09a8\\u09c8\\u09a4\\u09bf\\u0995 \\u0993 \\u09a6\\u09be\\u09b0\\u09cd\\u09b6\\u09a8\\u09bf\\u0995 \\u09ac\\u09bf\\u09b6\\u09cd\\u09ac\\u09be\\u09b8 \\u0993 \\u09ac\\u09cd\\u09af\\u09ac\\u09b8\\u09cd\\u09a5\\u09be \\u09af\\u09be \\u09ac\\u09bf\\u0996\\u09cd\\u09af\\u09be\\u09a4 \\u099a\\u09c8\\u09a8\\u09bf\\u0995 \\u09b8\\u09be\\u09a7\\u09c1 \\u0995\\u09a8\\u09ab\\u09c1\\u09b8\\u09bf\\u09af\\u09bc\\u09be\\u09b8\\u09c7\\u09b0 \\u09b6\\u09bf\\u0995\\u09cd\\u09b7\\u09be\\u09b0 \\u0989\\u09aa\\u09b0 \\u09ad\\u09bf\\u09a4\\u09cd\\u09a4\\u09bf \\u0995\\u09b0\\u09c7 \\u0997\\u09a1\\u09bc\\u09c7 \\u0989\\u09a0\\u09c7\\u099b\\u09c7\\u0964 \\u0985\\u09b0\\u09cd\\u09a5\\u09be\\u09ce \\u0995\\u09a8\\u09ab\\u09c1\\u09b8\\u09bf\\u09af\\u09bc\\u09be\\u09b8 \\u09b9\\u09b2\\u09c7\\u09a8 \\u0995\\u09a8\\u09ab\\u09c1\\u09b8\\u09c0\\u09af\\u09bc \\u09a7\\u09b0\\u09cd\\u09ae\\u09c7\\u09b0 \\u09aa\\u09cd\\u09b0\\u09a4\\u09bf\\u09b7\\u09cd\\u09a0\\u09be\\u09a4\\u09be\\u0964 \\u098f\\u099f\\u09bf \\u09ae\\u09c2\\u09b2\\u09a4 \\u09a8\\u09c8\\u09a4\\u09bf\\u0995\\u09a4\\u09be, \\u09b8\\u09ae\\u09be\\u099c, \\u09b0\\u09be\\u099c\\u09a8\\u09c0\\u09a4\\u09bf, \\u09a6\\u09b0\\u09cd\\u09b6\\u09a8 \\u098f\\u09ac\\u0982 \\u09a7\\u09b0\\u09cd\\u09ae\\u09c0\\u09af\\u09bc \\u09ac\\u09bf\\u09b6\\u09cd\\u09ac\\u09be\\u09b8 \\u0993 \\u099a\\u09bf\\u09a8\\u09cd\\u09a4\\u09be\\u09a7\\u09be\\u09b0\\u09be\\u09b8\\u09ae\\u09c2\\u09b9\\u09c7\\u09b0 \\u09b8\\u09ae\\u09cd\\u09ae\\u09bf\\u09b2\\u09a8\\u09c7 \\u09b8\\u09c3\\u09b7\\u09cd\\u099f \\u098f\\u0995\\u099f\\u09bf \\u099c\\u099f\\u09bf\\u09b2 \\u09ac\\u09cd\\u09af\\u09ac\\u09b8\\u09cd\\u09a5\\u09be \\u09af\\u09be \\u098f\\u0995\\u09ac\\u09bf\\u0982\\u09b6 \\u09b6\\u09a4\\u09be\\u09ac\\u09cd\\u09a6\\u09c0 \\u09aa\\u09b0\\u09cd\\u09af\\u09a8\\u09cd\\u09a4 \\u09aa\\u09c2\\u09b0\\u09cd\\u09ac \\u098f\\u09b6\\u09bf\\u09af\\u09bc\\u09be\\u09b0 \\u09b8\\u0982\\u09b8\\u09cd\\u0995\\u09c3\\u09a4\\u09bf \\u0993 \\u0987\\u09a4\\u09bf\\u09b9\\u09be\\u09b8\\u09c7 \\u09ac\\u09bf\\u09b6\\u09c7\\u09b7 \\u09ad\\u09c2\\u09ae\\u09bf\\u0995\\u09be \\u09aa\\u09be\\u09b2\\u09a8 \\u0995\\u09b0\\u09c7\\u099b\\u09c7\\u0964 \\u0985\\u09a8\\u09c7\\u0995\\u09c7\\u09b0 \\u09ae\\u09a4\\u09c7 \\u098f\\u099f\\u09bf \\u09aa\\u09c2\\u09b0\\u09cd\\u09ac \\u098f\\u09b6\\u09bf\\u09af\\u09bc\\u09be\\u09b0 \\u09a6\\u09c7\\u09b6\\u09b8\\u09ae\\u09c2\\u09b9\\u09c7\\u09b0 \\u09b0\\u09be\\u09b7\\u09cd\\u099f\\u09cd\\u09b0 \\u09a7\\u09b0\\u09cd\\u09ae \\u09b9\\u09bf\\u09b8\\u09c7\\u09ac\\u09c7 \\u09b8\\u09cd\\u09ac\\u09c0\\u0995\\u09c3\\u09a4 \\u09b9\\u09a4\\u09c7 \\u09aa\\u09be\\u09b0\\u09c7\\u0964 \\u0995\\u09be\\u09b0\\u09a3 \\u098f\\u0987 \\u09a6\\u09c7\\u09b6\\u0997\\u09c1\\u09b2\\u09cb\\u09a4\\u09c7 \\u098f\\u0996\\u09a8 \\u0995\\u09a8\\u09ab\\u09c1\\u09b8\\u09c0\\u09af\\u09bc \\u0986\\u09a6\\u09b0\\u09cd\\u09b6\\u09c7\\u09b0 \\u09ac\\u09be\\u09b8\\u09cd\\u09a4\\u09ac\\u09be\\u09af\\u09bc\\u09a8\\u09c7\\u09b0 \\u0989\\u09aa\\u09b0 \\u09ac\\u09bf\\u09b6\\u09c7\\u09b7 \\u099c\\u09cb\\u09b0 \\u09a6\\u09c7\\u09af\\u09bc\\u09be \\u09b9\\u099a\\u09cd\\u099b\\u09c7\\u0964[69][70] \\u0995\\u09a8\\u09ab\\u09c1\\u09b8\\u09bf\\u09af\\u09bc \\u09ae\\u09a4\\u09ac\\u09be\\u09a6 \\u098f\\u0995\\u099f\\u09bf \\u09a8\\u09c8\\u09a4\\u09bf\\u0995 \\u09ac\\u09bf\\u09b6\\u09cd\\u09ac\\u09be\\u09b8 \\u098f\\u09ac\\u0982 \\u09a6\\u09b0\\u09cd\\u09b6\\u09a8\\u0964 \\u098f\\u099f\\u09be\\u0995\\u09c7 \\u09a7\\u09b0\\u09cd\\u09ae \\u09ac\\u09b2\\u09be \\u09b9\\u09ac\\u09c7 \\u0995\\u09bf\\u09a8\\u09be \\u098f\\u0987 \\u09a8\\u09bf\\u09af\\u09bc\\u09c7 \\u09ac\\u09bf\\u09b6\\u09c7\\u09b7\\u099c\\u09cd\\u099e\\u09a6\\u09c7\\u09b0 \\u09ae\\u09be\\u099d\\u09c7 \\u09ae\\u09a4\\u09ad\\u09c7\\u09a6 \\u0986\\u099b\\u09c7\\u0964[71] \\u0985\\u09a8\\u09c7\\u0995 \\u09b6\\u09bf\\u0995\\u09cd\\u09b7\\u09be\\u09ac\\u09bf\\u09a6 \\u0995\\u09a8\\u09ab\\u09c1\\u09b8\\u09bf\\u09af\\u09bc \\u09ae\\u09a4\\u09ac\\u09be\\u09a6\\u0995\\u09c7 \\u09a7\\u09b0\\u09cd\\u09ae \\u09a8\\u09af\\u09bc \\u09ac\\u09b0\\u0982 \\u09a6\\u09b0\\u09cd\\u09b6\\u09a8 \\u09b9\\u09bf\\u09b8\\u09c7\\u09ac\\u09c7 \\u09ae\\u09c7\\u09a8\\u09c7 \\u09a8\\u09bf\\u09af\\u09bc\\u09c7\\u099b\\u09c7\\u09a8\\u0964[72] \\u0995\\u09a8\\u09ab\\u09c1\\u09b8\\u09bf\\u09af\\u09bc \\u09a7\\u09b0\\u09cd\\u09ae\\u09c7\\u09b0 \\u09ae\\u09c2\\u09b2\\u0995\\u09a5\\u09be \\u09b9\\u099a\\u09cd\\u099b\\u09c7 \\u09ae\\u09be\\u09a8\\u09ac\\u09a4\\u09be\\u09ac\\u09be\\u09a6\\u0964[73]\",\n",
      "            \"\\u09b6\\u09cd\\u09b0\\u09c0\\u09b2\\u0999\\u09cd\\u0995\\u09be\\u09b0 \\u09b8\\u0982\\u09ac\\u09bf\\u09a7\\u09be\\u09a8 \\u0985\\u09a8\\u09c1\\u09af\\u09be\\u09af\\u09bc\\u09c0 \\u09a6\\u09c7\\u09b6\\u099f\\u09bf \\u0997\\u09a3\\u09a4\\u09be\\u09a8\\u09cd\\u09a4\\u09cd\\u09b0\\u09bf\\u0995, \\u09b8\\u09be\\u09ae\\u099c\\u09a4\\u09be\\u09a8\\u09cd\\u09a4\\u09cd\\u09b0\\u09bf\\u0995, \\u09aa\\u09cd\\u09b0\\u099c\\u09be\\u09a4\\u09a8\\u09cd\\u09a4\\u09cd\\u09b0\\u09c0 \\u09b9\\u09bf\\u09b8\\u09c7\\u09ac\\u09c7 \\u09aa\\u09b0\\u09bf\\u099a\\u09bf\\u09a4 \\u09b9\\u09ac\\u09c7, \\u09a6\\u09c7\\u09b6\\u099f\\u09bf\\u0995\\u09c7 \\u098f\\u0995\\u09c7\\u09b6\\u09cd\\u09ac\\u09b0\\u09ac\\u09be\\u09a6\\u09c0 \\u09b0\\u09be\\u09b7\\u09cd\\u099f\\u09cd\\u09b0\\u0993 \\u09ac\\u09b2\\u09be \\u09b9\\u09af\\u09bc\\u09c7\\u099b\\u09c7\\u0964 \\u09b8\\u09b0\\u0995\\u09be\\u09b0 \\u09ac\\u09cd\\u09af\\u09ac\\u09b8\\u09cd\\u09a5\\u09be \\u0997\\u09a1\\u09bc\\u09c7 \\u0989\\u09a0\\u09c7\\u099b\\u09c7 \\u09b8\\u0982\\u09b8\\u09a6\\u09c0\\u09af\\u09bc \\u0993 \\u09b0\\u09be\\u09b7\\u09cd\\u099f\\u09cd\\u09b0\\u09aa\\u09a4\\u09bf \\u09b6\\u09be\\u09b8\\u09bf\\u09a4 \\u09ac\\u09cd\\u09af\\u09ac\\u09b8\\u09cd\\u09a5\\u09be\\u09b0 \\u09b8\\u09ae\\u09a8\\u09cd\\u09ac\\u09af\\u09bc\\u09c7\\u0964 \\u09b6\\u09cd\\u09b0\\u09c0\\u09b2\\u0999\\u09cd\\u0995\\u09be\\u09b0 \\u09b0\\u09be\\u09b7\\u09cd\\u099f\\u09cd\\u09b0\\u09aa\\u09a4\\u09bf \\u098f\\u0995\\u09be\\u09a7\\u09be\\u09b0\\u09c7 \\u09b0\\u09be\\u09b7\\u09cd\\u099f\\u09cd\\u09b0\\u09aa\\u09cd\\u09b0\\u09a7\\u09be\\u09a8, \\u09b8\\u09be\\u09ae\\u09b0\\u09bf\\u0995 \\u09ac\\u09be\\u09b9\\u09bf\\u09a8\\u09c0\\u09b0 \\u09aa\\u09cd\\u09b0\\u09a7\\u09be\\u09a8 \\u09aa\\u09cd\\u09b0\\u09b6\\u09be\\u09b8\\u0995 \\u0993 \\u09b8\\u09b0\\u0995\\u09be\\u09b0 \\u09aa\\u09cd\\u09b0\\u09a7\\u09be\\u09a8 \\u098f\\u09ac\\u0982 \\u09a4\\u09bf\\u09a8\\u09bf \\u09a8\\u09bf\\u09b0\\u09cd\\u09ac\\u09be\\u099a\\u09bf\\u09a4 \\u09b9\\u09a8 \\u099b\\u09af\\u09bc \\u09ac\\u099b\\u09b0\\u09c7\\u09b0 \\u099c\\u09a8\\u09cd\\u09af\\u0964 \\u09b0\\u09be\\u09b7\\u09cd\\u099f\\u09cd\\u09b0\\u09aa\\u09a4\\u09bf \\u09a6\\u09c7\\u09b6\\u09c7\\u09b0 \\u09b8\\u0982\\u09b8\\u09a6 \\u098f\\u09ac\\u0982 \\u09e8\\u09e8\\u09eb \\u09b8\\u09a6\\u09b8\\u09cd\\u09af\\u09c7\\u09b0 \\u0986\\u0987\\u09a8 \\u09aa\\u09cd\\u09b0\\u09a3\\u09af\\u09bc\\u09a8\\u0995\\u09be\\u09b0\\u09c0 \\u09aa\\u09b0\\u09bf\\u09b7\\u09a6\\u09c7\\u09b0 \\u0995\\u09be\\u099c\\u09c7 \\u09a6\\u09be\\u09af\\u09bc\\u09ac\\u09a6\\u09cd\\u09a7\\u0964 \\u09b0\\u09be\\u09b7\\u09cd\\u099f\\u09cd\\u09b0\\u09aa\\u09a4\\u09bf \\u09a8\\u09bf\\u09b0\\u09cd\\u09ac\\u09be\\u099a\\u09bf\\u09a4 \\u09b8\\u0982\\u09b8\\u09a6 \\u09b8\\u09a6\\u09b8\\u09cd\\u09af\\u09c7\\u09b0 \\u09ae\\u09a7\\u09cd\\u09af \\u09a5\\u09c7\\u0995\\u09c7 \\u098f\\u0995\\u099c\\u09a8\\u0995\\u09c7 \\u09ae\\u09a8\\u09cd\\u09a4\\u09cd\\u09b0\\u09c0 \\u09b8\\u09ad\\u09be\\u09b0 \\u09aa\\u09cd\\u09b0\\u09a7\\u09be\\u09a8 \\u09b9\\u09bf\\u09b8\\u09c7\\u09ac\\u09c7 \\u09a8\\u09bf\\u09af\\u09bc\\u09cb\\u0997 \\u09a6\\u09c7\\u09a8\\u0964 \\u09aa\\u09cd\\u09b0\\u09a7\\u09be\\u09a8\\u09ae\\u09a8\\u09cd\\u09a4\\u09cd\\u09b0\\u09c0 \\u09b0\\u09be\\u09b7\\u09cd\\u099f\\u09cd\\u09b0\\u09aa\\u09a4\\u09bf\\u09b0 \\u09a1\\u09c7\\u09aa\\u09c1\\u099f\\u09bf \\u09b9\\u09bf\\u09b8\\u09c7\\u09ac\\u09c7 \\u0995\\u09be\\u099c \\u0995\\u09b0\\u09c7\\u09a8 \\u098f\\u09ac\\u0982 \\u09b8\\u0982\\u09b8\\u09a6\\u09c7\\u09b0 \\u09b8\\u09b0\\u0995\\u09be\\u09b0\\u09bf \\u09a6\\u09b2\\u09c7\\u09b0 \\u09a8\\u09c7\\u09a4\\u09c3\\u09a4\\u09cd\\u09ac \\u09a6\\u09c7\\u09a8\\u0964 \\u09aa\\u09cd\\u09b0\\u09a4\\u09bf\\u099f\\u09bf \\u099c\\u09c7\\u09b2\\u09be \\u09b9\\u09a4\\u09c7 \\u09b8\\u0982\\u09b8\\u09a6 \\u09b8\\u09a6\\u09b8\\u09cd\\u09af\\u09b0\\u09be \\u09b8\\u09be\\u09b0\\u09cd\\u09ac\\u099c\\u09a8\\u09c0\\u09a8 \\u09ad\\u09cb\\u099f\\u09c7 \\u09a8\\u09bf\\u09b0\\u09cd\\u09ac\\u09be\\u099a\\u09bf\\u09a4 \\u09b9\\u09a8\\u0964 \\u09b0\\u09be\\u09b7\\u09cd\\u099f\\u09cd\\u09b0\\u09aa\\u09a4\\u09bf \\u09b8\\u0982\\u09b8\\u09a6\\u09c7\\u09b0 \\u098f\\u0995\\u09ac\\u099b\\u09b0 \\u0995\\u09be\\u09b0\\u09cd\\u09af\\u0995\\u09cd\\u09b0\\u09ae \\u0985\\u09a4\\u09bf\\u09ac\\u09be\\u09b9\\u09bf\\u09a4 \\u09b9\\u09ac\\u09be\\u09b0 \\u09aa\\u09b0 \\u09b8\\u0982\\u09b8\\u09a6 \\u09b8\\u09cd\\u09a5\\u0997\\u09bf\\u09a4 \\u0985\\u09a5\\u09ac\\u09be \\u09b8\\u09ae\\u09be\\u09aa\\u09cd\\u09a4\\u09bf \\u0998\\u09cb\\u09b7\\u09a8\\u09be \\u0995\\u09b0\\u09a4\\u09c7 \\u09aa\\u09be\\u09b0\\u09c7\\u09a8\\u0964 \\u09b8\\u0982\\u09b8\\u09a6 \\u09b8\\u0995\\u09b2 \\u09aa\\u09cd\\u09b0\\u0995\\u09be\\u09b0 \\u0986\\u0987\\u09a8 \\u09aa\\u09cd\\u09b0\\u09a3\\u09af\\u09bc\\u09a8 \\u0995\\u09b0\\u09be\\u09b0 \\u0995\\u09cd\\u09b7\\u09ae\\u09a4\\u09be \\u09b0\\u09be\\u0996\\u09c7\\u0964 \\u09b6\\u09cd\\u09b0\\u09c0\\u09ae\\u09be\\u09ad\\u09cb \\u09ac\\u09a8\\u09cd\\u09a6\\u09c7\\u09b0\\u09a8\\u09be\\u09af\\u09bc\\u09c7\\u0995 \\u09b6\\u09cd\\u09b0\\u09c0\\u09b2\\u0999\\u09cd\\u0995\\u09be\\u09b0 \\u09a8\\u09bf\\u09b0\\u09cd\\u09ac\\u09be\\u099a\\u09bf\\u09a4 \\u09aa\\u09cd\\u09b0\\u09a5\\u09ae \\u09ae\\u09b9\\u09bf\\u09b2\\u09be \\u09aa\\u09cd\\u09b0\\u09a7\\u09be\\u09a8\\u09ae\\u09a8\\u09cd\\u09a4\\u09cd\\u09b0\\u09c0\\u0964 \\u09a4\\u09be\\u0981\\u09b0 \\u09b8\\u09c1\\u09af\\u09cb\\u0997\\u09cd\\u09af\\u0995\\u09a8\\u09cd\\u09af\\u09be \\u099a\\u09a8\\u09cd\\u09a6\\u09cd\\u09b0\\u09bf\\u0995\\u09be \\u0995\\u09c1\\u09ae\\u09be\\u09b0\\u09be\\u09a4\\u09c1\\u0999\\u09cd\\u0997\\u09be \\u09e7\\u09ef\\u09ef\\u09ea \\u09a5\\u09c7\\u0995\\u09c7 \\u09e8\\u09e6\\u09e6\\u09eb \\u09b8\\u09be\\u09b2 \\u09aa\\u09b0\\u09cd\\u09af\\u09a8\\u09cd\\u09a4 \\u09b0\\u09be\\u09b7\\u09cd\\u099f\\u09cd\\u09b0\\u09aa\\u09a4\\u09bf \\u09b9\\u09ac\\u09be\\u09b0 \\u0986\\u0997\\u09c7 \\u09e7\\u09ef\\u09ef\\u09ea \\u09b8\\u09be\\u09b2\\u09c7\\u09b0 \\u0986\\u0997\\u09b7\\u09cd\\u099f \\u09a5\\u09c7\\u0995\\u09c7 \\u09a1\\u09bf\\u09b8\\u09c7\\u09ae\\u09cd\\u09ac\\u09b0 \\u09aa\\u09b0\\u09cd\\u09af\\u09a8\\u09cd\\u09a4 \\u09aa\\u09cd\\u09b0\\u09a7\\u09be\\u09a8\\u09ae\\u09a8\\u09cd\\u09a4\\u09cd\\u09b0\\u09c0\\u0993 \\u099b\\u09bf\\u09b2\\u09c7\\u09a8\\u0964 \\u09ae\\u09c8\\u09a4\\u09cd\\u09b0\\u09c0\\u09aa\\u09be\\u09b2 \\u09b8\\u09bf\\u09b0\\u09bf\\u09b8\\u09c7\\u09a8 \\u0993 \\u09b0\\u09be\\u09a8\\u09bf\\u09b2 \\u09ac\\u09bf\\u0995\\u09cd\\u09b0\\u09ae\\u09be\\u09b8\\u09bf\\u0982\\u09b9\\u09c7 \\u09ef \\u099c\\u09be\\u09a8\\u09c1\\u09af\\u09bc\\u09be\\u09b0\\u09bf, \\u09e8\\u09e6\\u09e7\\u09eb \\u09a4\\u09be\\u09b0\\u09bf\\u0996\\u09c7 \\u09b0\\u09be\\u09b7\\u09cd\\u099f\\u09cd\\u09b0\\u09aa\\u09a4\\u09bf \\u0993 \\u09aa\\u09cd\\u09b0\\u09a7\\u09be\\u09a8\\u09ae\\u09a8\\u09cd\\u09a4\\u09cd\\u09b0\\u09c0 \\u09a8\\u09bf\\u09b0\\u09cd\\u09ac\\u09be\\u099a\\u09bf\\u09a4 \\u09b9\\u09a8\\u0964\"\n",
      "        ]\n",
      "    ],\n",
      "    \"queries\": \"data\\/queries.train.colbert.tsv\",\n",
      "    \"index_name\": \"\",\n",
      "    \"overwrite\": false,\n",
      "    \"root\": \"\\/media\\/rifat\\/HDD\\/RAG_thesis\\/experiments\",\n",
      "    \"experiment\": \"default\",\n",
      "    \"index_root\": \"storage\\/colbert_index\",\n",
      "    \"name\": \"2024-06\\/25\\/13.07.57\",\n",
      "    \"rank\": 0,\n",
      "    \"nranks\": 1,\n",
      "    \"amp\": true,\n",
      "    \"gpus\": 0,\n",
      "    \"avoid_fork_if_possible\": false\n",
      "}\n"
     ]
    },
    {
     "name": "stderr",
     "output_type": "stream",
     "text": [
      "/home/rifat/anaconda3/envs/rag/lib/python3.10/site-packages/huggingface_hub/file_download.py:1132: FutureWarning: `resume_download` is deprecated and will be removed in version 1.0.0. Downloads always resume when possible. If you want to force a new download, use `force_download=True`.\n",
      "  warnings.warn(\n"
     ]
    },
    {
     "name": "stdout",
     "output_type": "stream",
     "text": [
      "[Jun 25, 13:08:01] [0] \t\t # of sampled PIDs = 2249 \t sampled_pids[:3] = [1706, 41, 1223]\n",
      "[Jun 25, 13:08:01] [0] \t\t #> Encoding 2249 passages..\n",
      "[Jun 25, 13:08:09] [0] \t\t avg_doclen_est = 110.92530059814453 \t len(local_sample) = 2,249\n",
      "[Jun 25, 13:08:10] [0] \t\t Creating 4,096 partitions.\n",
      "[Jun 25, 13:08:10] [0] \t\t *Estimated* 249,471 embeddings.\n",
      "[Jun 25, 13:08:10] [0] \t\t #> Saving the indexing plan to storage/colbert_index/plan.json ..\n",
      "Clustering 236998 points in 128D to 4096 clusters, redo 1 times, 4 iterations\n",
      "  Preprocessing in 0.01 s\n",
      "  Iteration 3 (31.35 s, search 31.32 s): objective=103747 imbalance=1.252 nsplit=0       \n",
      "[Jun 25, 13:08:41] Loading decompress_residuals_cpp extension (set COLBERT_LOAD_TORCH_EXTENSION_VERBOSE=True for more info)...\n",
      "[Jun 25, 13:08:41] Loading packbits_cpp extension (set COLBERT_LOAD_TORCH_EXTENSION_VERBOSE=True for more info)...\n",
      "[0.049, 0.052, 0.05, 0.054, 0.049, 0.052, 0.048, 0.051, 0.048, 0.044, 0.049, 0.052, 0.048, 0.048, 0.05, 0.048, 0.052, 0.051, 0.048, 0.046, 0.047, 0.051, 0.046, 0.05, 0.048, 0.053, 0.047, 0.052, 0.048, 0.051, 0.051, 0.054, 0.052, 0.049, 0.049, 0.051, 0.055, 0.05, 0.05, 0.048, 0.048, 0.051, 0.044, 0.057, 0.047, 0.048, 0.051, 0.048, 0.046, 0.049, 0.049, 0.05, 0.049, 0.05, 0.051, 0.05, 0.05, 0.054, 0.053, 0.051, 0.052, 0.051, 0.047, 0.047, 0.05, 0.05, 0.05, 0.047, 0.049, 0.051, 0.047, 0.046, 0.048, 0.048, 0.05, 0.048, 0.049, 0.051, 0.046, 0.052, 0.053, 0.047, 0.051, 0.053, 0.048, 0.046, 0.047, 0.056, 0.052, 0.053, 0.046, 0.051, 0.051, 0.053, 0.047, 0.047, 0.055, 0.049, 0.051, 0.049, 0.048, 0.05, 0.046, 0.059, 0.049, 0.05, 0.055, 0.05, 0.052, 0.047, 0.048, 0.05, 0.049, 0.051, 0.051, 0.054, 0.052, 0.043, 0.052, 0.052, 0.048, 0.054, 0.05, 0.058, 0.055, 0.047, 0.047, 0.053]\n",
      "[Jun 25, 13:08:41] #> Got bucket_cutoffs_quantiles = tensor([0.2500, 0.5000, 0.7500], device='cuda:0') and bucket_weights_quantiles = tensor([0.1250, 0.3750, 0.6250, 0.8750], device='cuda:0')\n",
      "[Jun 25, 13:08:41] #> Got bucket_cutoffs = tensor([-0.0400,  0.0005,  0.0411], device='cuda:0') and bucket_weights = tensor([-0.0707, -0.0184,  0.0194,  0.0718], device='cuda:0')\n",
      "[Jun 25, 13:08:41] avg_residual = 0.049957275390625\n",
      "[Jun 25, 13:08:41] [0] \t\t #> Encoding 2249 passages..\n"
     ]
    },
    {
     "name": "stderr",
     "output_type": "stream",
     "text": [
      "0it [00:00, ?it/s]"
     ]
    },
    {
     "name": "stdout",
     "output_type": "stream",
     "text": [
      "[Jun 25, 13:08:49] [0] \t\t #> Saving chunk 0: \t 2,249 passages and 249,471 embeddings. From #0 onward.\n",
      "[Jun 25, 13:08:49] [0] \t\t #> Checking all files were saved...\n",
      "[Jun 25, 13:08:49] [0] \t\t Found all files!\n",
      "[Jun 25, 13:08:49] [0] \t\t #> Building IVF...\n",
      "[Jun 25, 13:08:49] [0] \t\t #> Loading codes...\n",
      "[Jun 25, 13:08:49] [0] \t\t Sorting codes...\n",
      "[Jun 25, 13:08:49] [0] \t\t Getting unique codes...\n",
      "[Jun 25, 13:08:49] #> Optimizing IVF to store map from centroids to list of pids..\n",
      "[Jun 25, 13:08:49] #> Building the emb2pid mapping..\n",
      "[Jun 25, 13:08:49] len(emb2pid) = 249471\n",
      "[Jun 25, 13:08:49] #> Saved optimized IVF to storage/colbert_index/ivf.pid.pt\n",
      "[Jun 25, 13:08:49] [0] \t\t #> Saving the indexing metadata to storage/colbert_index/metadata.json ..\n"
     ]
    },
    {
     "name": "stderr",
     "output_type": "stream",
     "text": [
      "1it [00:08,  8.14s/it]\n",
      "100%|██████████| 1/1 [00:00<00:00, 1488.40it/s]\n",
      "100%|██████████| 4096/4096 [00:00<00:00, 236454.93it/s]\n"
     ]
    },
    {
     "name": "stdout",
     "output_type": "stream",
     "text": [
      "#> Joined...\n"
     ]
    },
    {
     "name": "stderr",
     "output_type": "stream",
     "text": [
      "/home/rifat/anaconda3/envs/rag/lib/python3.10/site-packages/huggingface_hub/file_download.py:1132: FutureWarning: `resume_download` is deprecated and will be removed in version 1.0.0. Downloads always resume when possible. If you want to force a new download, use `force_download=True`.\n",
      "  warnings.warn(\n"
     ]
    },
    {
     "name": "stdout",
     "output_type": "stream",
     "text": [
      "[Jun 25, 13:08:52] #> Loading codec...\n",
      "[Jun 25, 13:08:52] Loading decompress_residuals_cpp extension (set COLBERT_LOAD_TORCH_EXTENSION_VERBOSE=True for more info)...\n",
      "[Jun 25, 13:08:52] Loading packbits_cpp extension (set COLBERT_LOAD_TORCH_EXTENSION_VERBOSE=True for more info)...\n",
      "[Jun 25, 13:08:52] #> Loading IVF...\n",
      "[Jun 25, 13:08:52] #> Loading doclens...\n"
     ]
    },
    {
     "name": "stderr",
     "output_type": "stream",
     "text": [
      "100%|██████████| 1/1 [00:00<00:00, 4128.25it/s]"
     ]
    },
    {
     "name": "stdout",
     "output_type": "stream",
     "text": [
      "[Jun 25, 13:08:52] #> Loading codes and residuals...\n"
     ]
    },
    {
     "name": "stderr",
     "output_type": "stream",
     "text": [
      "\n",
      "100%|██████████| 1/1 [00:00<00:00, 347.15it/s]\n"
     ]
    }
   ],
   "source": [
    "vector_index = ColbertIndex(\n",
    "    nodes=nodes,\n",
    "    model_name=COLBERT_CHECKPOINT_PATH,\n",
    "    show_progress=True,\n",
    "    nbits=2,\n",
    "    doc_maxlen=512,\n",
    "    query_maxlen=128,\n",
    "    kmeans_niters=4\n",
    ")"
   ]
  },
  {
   "cell_type": "code",
   "execution_count": 14,
   "metadata": {},
   "outputs": [],
   "source": [
    "retriever = vector_index.as_retriever(similarity_top_k=4)"
   ]
  },
  {
   "cell_type": "code",
   "execution_count": 15,
   "metadata": {},
   "outputs": [],
   "source": [
    "\n",
    "\n",
    "metrics = [\"mrr\", \"hit_rate\"]\n",
    "\n",
    "\n",
    "retriever_evaluator = RetrieverEvaluator.from_metric_names(\n",
    "    metrics, retriever=retriever\n",
    ")"
   ]
  },
  {
   "cell_type": "code",
   "execution_count": 16,
   "metadata": {},
   "outputs": [],
   "source": [
    "import nest_asyncio\n",
    "nest_asyncio.apply()"
   ]
  },
  {
   "cell_type": "code",
   "execution_count": 17,
   "metadata": {},
   "outputs": [],
   "source": [
    "\n",
    "query_texts = dataset[\"question\"]  # List of query texts\n",
    "\n",
    "# query_texts = []\n",
    "# for data in dataset:\n",
    "#     if len(data[\"answers\"][\"text\"]) != 0:\n",
    "#         continue\n",
    "#     query_texts.append(data[\"question\"])\n",
    "\n",
    "query_ids=[]\n",
    "for i in range(len(query_texts)):\n",
    "    query_ids.append(str(i))\n",
    "query_dict = dict(zip(query_ids, query_texts))"
   ]
  },
  {
   "cell_type": "code",
   "execution_count": 18,
   "metadata": {},
   "outputs": [
    {
     "data": {
      "text/plain": [
       "2504"
      ]
     },
     "execution_count": 18,
     "metadata": {},
     "output_type": "execute_result"
    }
   ],
   "source": [
    "len(query_texts)"
   ]
  },
  {
   "cell_type": "code",
   "execution_count": 19,
   "metadata": {},
   "outputs": [],
   "source": [
    "reverse_doc_dict = {}\n",
    "doc_dict = {}\n",
    "\n",
    "for key, value in vector_index.docstore.docs.items():\n",
    "    reverse_doc_dict[value.text] = key\n",
    "    doc_dict[key] = value.text"
   ]
  },
  {
   "cell_type": "code",
   "execution_count": 20,
   "metadata": {},
   "outputs": [],
   "source": [
    "relevent_doc_dict = {query_id: [reverse_doc_dict[dataset[\"context\"][i]]] for i, query_id in enumerate(query_ids)}\n"
   ]
  },
  {
   "cell_type": "code",
   "execution_count": 21,
   "metadata": {},
   "outputs": [],
   "source": [
    "qa_dataset = EmbeddingQAFinetuneDataset(\n",
    "    queries= query_dict,\n",
    "    corpus= doc_dict,\n",
    "    relevant_docs= relevent_doc_dict\n",
    ")"
   ]
  },
  {
   "cell_type": "code",
   "execution_count": 22,
   "metadata": {},
   "outputs": [
    {
     "name": "stdout",
     "output_type": "stream",
     "text": [
      "\n",
      "#> QueryTokenizer.tensorize(batch_text[0], batch_background[0], bsize) ==\n",
      "#> Input: . কেমব্রিজ বিশ্ববিদ্যালযয়ের প্রথম আচার্য কে ?, \t\t True, \t\t None\n",
      "#> Output IDs: torch.Size([128]), tensor([  104,   100, 62583,  5071, 20871,  1847, 34206,  8487,  1536, 76487,\n",
      "         3403,   138,   105,   103,   103,   103,   103,   103,   103,   103,\n",
      "          103,   103,   103,   103,   103,   103,   103,   103,   103,   103,\n",
      "          103,   103,   103,   103,   103,   103,   103,   103,   103,   103,\n",
      "          103,   103,   103,   103,   103,   103,   103,   103,   103,   103,\n",
      "          103,   103,   103,   103,   103,   103,   103,   103,   103,   103,\n",
      "          103,   103,   103,   103,   103,   103,   103,   103,   103,   103,\n",
      "          103,   103,   103,   103,   103,   103,   103,   103,   103,   103,\n",
      "          103,   103,   103,   103,   103,   103,   103,   103,   103,   103,\n",
      "          103,   103,   103,   103,   103,   103,   103,   103,   103,   103,\n",
      "          103,   103,   103,   103,   103,   103,   103,   103,   103,   103,\n",
      "          103,   103,   103,   103,   103,   103,   103,   103,   103,   103,\n",
      "          103,   103,   103,   103,   103,   103,   103,   103],\n",
      "       device='cuda:0')\n",
      "#> Output Mask: torch.Size([128]), tensor([1, 1, 1, 1, 1, 1, 1, 1, 1, 1, 1, 1, 1, 0, 0, 0, 0, 0, 0, 0, 0, 0, 0, 0,\n",
      "        0, 0, 0, 0, 0, 0, 0, 0, 0, 0, 0, 0, 0, 0, 0, 0, 0, 0, 0, 0, 0, 0, 0, 0,\n",
      "        0, 0, 0, 0, 0, 0, 0, 0, 0, 0, 0, 0, 0, 0, 0, 0, 0, 0, 0, 0, 0, 0, 0, 0,\n",
      "        0, 0, 0, 0, 0, 0, 0, 0, 0, 0, 0, 0, 0, 0, 0, 0, 0, 0, 0, 0, 0, 0, 0, 0,\n",
      "        0, 0, 0, 0, 0, 0, 0, 0, 0, 0, 0, 0, 0, 0, 0, 0, 0, 0, 0, 0, 0, 0, 0, 0,\n",
      "        0, 0, 0, 0, 0, 0, 0, 0], device='cuda:0')\n",
      "\n"
     ]
    }
   ],
   "source": [
    "eval_results = await retriever_evaluator.aevaluate_dataset(qa_dataset)"
   ]
  },
  {
   "cell_type": "code",
   "execution_count": 23,
   "metadata": {},
   "outputs": [],
   "source": [
    "import pandas as pd\n",
    "\n",
    "\n",
    "def display_results(name, eval_results):\n",
    "    \"\"\"Display results from evaluate.\"\"\"\n",
    "\n",
    "    metric_dicts = []\n",
    "    for eval_result in eval_results:\n",
    "        metric_dict = eval_result.metric_vals_dict\n",
    "        metric_dicts.append(metric_dict)\n",
    "\n",
    "    full_df = pd.DataFrame(metric_dicts)\n",
    "\n",
    "    hit_rate = full_df[\"hit_rate\"].mean()\n",
    "    mrr = full_df[\"mrr\"].mean()\n",
    "    columns = {\"retrievers\": [name], \"hit_rate\": [hit_rate], \"mrr\": [mrr]}\n",
    "\n",
    "    metric_df = pd.DataFrame(columns)\n",
    "\n",
    "    return metric_df"
   ]
  },
  {
   "cell_type": "code",
   "execution_count": 24,
   "metadata": {},
   "outputs": [
    {
     "data": {
      "text/html": [
       "<div>\n",
       "<style scoped>\n",
       "    .dataframe tbody tr th:only-of-type {\n",
       "        vertical-align: middle;\n",
       "    }\n",
       "\n",
       "    .dataframe tbody tr th {\n",
       "        vertical-align: top;\n",
       "    }\n",
       "\n",
       "    .dataframe thead th {\n",
       "        text-align: right;\n",
       "    }\n",
       "</style>\n",
       "<table border=\"1\" class=\"dataframe\">\n",
       "  <thead>\n",
       "    <tr style=\"text-align: right;\">\n",
       "      <th></th>\n",
       "      <th>retrievers</th>\n",
       "      <th>hit_rate</th>\n",
       "      <th>mrr</th>\n",
       "    </tr>\n",
       "  </thead>\n",
       "  <tbody>\n",
       "    <tr>\n",
       "      <th>0</th>\n",
       "      <td>top-50 eval</td>\n",
       "      <td>0.518371</td>\n",
       "      <td>0.437001</td>\n",
       "    </tr>\n",
       "  </tbody>\n",
       "</table>\n",
       "</div>"
      ],
      "text/plain": [
       "    retrievers  hit_rate       mrr\n",
       "0  top-50 eval  0.518371  0.437001"
      ]
     },
     "execution_count": 24,
     "metadata": {},
     "output_type": "execute_result"
    }
   ],
   "source": [
    "\n",
    "display_results(\"top-50 eval\", eval_results)"
   ]
  },
  {
   "cell_type": "code",
   "execution_count": 25,
   "metadata": {},
   "outputs": [],
   "source": [
    "query = query_dict['1']\n",
    "retrieved_nodes = retriever.retrieve(query)"
   ]
  },
  {
   "cell_type": "code",
   "execution_count": 26,
   "metadata": {},
   "outputs": [
    {
     "data": {
      "text/plain": [
       "'মহাকবি মাইকেল মধুসূদন দত্তের প্রথম কাব্যগ্রন্থটি কবে প্রকাশিত হয় ?'"
      ]
     },
     "execution_count": 26,
     "metadata": {},
     "output_type": "execute_result"
    }
   ],
   "source": [
    "query"
   ]
  },
  {
   "cell_type": "code",
   "execution_count": 55,
   "metadata": {},
   "outputs": [
    {
     "name": "stderr",
     "output_type": "stream",
     "text": [
      "Special tokens have been added in the vocabulary, make sure the associated word embeddings are fine-tuned or trained.\n",
      "Loading checkpoint shards: 100%|██████████| 4/4 [00:00<00:00,  5.69it/s]\n"
     ]
    }
   ],
   "source": [
    "import torch\n",
    "from transformers import AutoTokenizer, AutoModelForCausalLM\n",
    "\n",
    "\n",
    "# Determine the device to use (GPU if available, else CPU)\n",
    "# device = torch.device(\"cuda\" if torch.cuda.is_available() else \"cpu\")\n",
    "device= torch.device(\"cpu\")\n",
    "# print(device)\n",
    "# Load pre-trained model and tokenizer\n",
    "tokenizer = AutoTokenizer.from_pretrained(\"hassanaliemon/bn_rag_llama3-8b\")\n",
    "# model = AutoModelForCausalLM.from_pretrained(\"hassanaliemon/bn_rag_llama3-8b\")\n",
    "model = AutoModelForCausalLM.from_pretrained(\n",
    "            \"hassanaliemon/bn_rag_llama3-8b\",\n",
    "            load_in_8bit=False,\n",
    "            torch_dtype=torch.bfloat16,\n",
    "            device_map=\"auto\"\n",
    "        )\n",
    "\n",
    "prompt = \"\"\"Input থেকে উত্তর দিন। Input এ না পেলে নিজে থেকে উত্তর দিন। উত্তর যথাসম্ভব সংক্ষিপ্তভাবে লিখুন। \n",
    "Instruction: সত্যজিত রায় কোন কলেজে পড়াশোনা করেন?\n",
    "Input: সত্যজিৎ রায় একজন ভারতীয় চলচ্চিত্র নির্মাতা ও বিংশ শতাব্দীর অন্যতম শ্রেষ্ঠ চলচ্চিত্র পরিচালক। কলকাতা শহরে সাহিত্য ও শিল্পের জগতে খ্যাতনামা এক বাঙালি পরিবারে তাঁর জন্ম হয়। তিনি কলকাতার প্রেসিডেন্সি কলেজ ও শান্তিনিকেতনে রবীন্দ্রনাথ ঠাকুরের প্রতিষ্ঠিত বিশ্বভারতী বিশ্ববিদ্যালয়ে পড়াশোনা করেন। \n",
    "Response: প্রেসিডেন্সি কলেজ\n",
    "Instruction: ফিলসফিয়া ন্যাচারালিস প্রিন্সিপিয়া ম্যাথামেটিকা  গ্রন্থটি কত খ্রিস্টাব্দে প্রকাশিত হয়?\n",
    "Input: স্যার আইজাক নিউটন ছিলেন একজন প্রখ্যাত ইংরেজ পদার্থবিজ্ঞানী, গণিতবিদ, জ্যোতির্বিজ্ঞানী, প্রাকৃতিক দার্শনিক এবং আলকেমিস্ট। অনেকের মতে, নিউটন সর্বকালের সর্বশ্রেষ্ঠ এবং সবচেয়ে প্রভাবশালী বিজ্ঞানী। ১৬৮৭ খ্রিস্টাব্দে তার বিশ্ব নন্দিত গ্রন্থ ফিলসফিয়া ন্যাচারালিস প্রিন্সিপিয়া ম্যাথামেটিকা প্রকাশিত হয় যাতে তিনি সর্বজনীন মহাকর্ষ এবং গতির তিনটি সূত্র বিধৃত করেছিলেন।\n",
    "Response: ১৬৮৭\n",
    "Instruction: ঢাকা বিশ্ববিদ্যালয় কত সালে স্থাপিত হয়?\n",
    "Input: ঢাকা বিশ্ববিদ্যালয় ঢাকার শাহবাগে অবস্থিত বাংলাদেশের একটি স্বায়ত্তশাসিত সরকারি গবেষণাধর্মী বিশ্ববিদ্যালয়। ১৯২১ সালে তদানীন্তন ব্রিটিশ ভারতে অক্সব্রিজ শিক্ষা ব্যবস্থা অনুসরণে এটি স্থাপিত হয়।\n",
    "Response: \n",
    "### Instruction:\n",
    "{} \n",
    "### Input: \n",
    "{} \n",
    "### Response: \n",
    "{} \n",
    "\"\"\"\n",
    "\n",
    "\n",
    "def generate_response(question, context):\n",
    "    # Tokenize the input and move tensors to the selected device\n",
    "    inputs = tokenizer([prompt.format(question, context, \"\")], return_tensors=\"pt\").to(device)\n",
    "    \n",
    "    # Generate the response\n",
    "    outputs = model.generate(**inputs, max_new_tokens=100, use_cache=True)\n",
    "    \n",
    "    # Decode the generated text\n",
    "    responses = tokenizer.batch_decode(outputs, skip_special_tokens=True)[0]\n",
    "    \n",
    "    # Extract the response text\n",
    "    response_start = responses.find(\"### Response:\") + len(\"### Response:\")\n",
    "    response = responses[response_start:].strip()\n",
    "    response= normalize(response)\n",
    "    \n",
    "    return response\n",
    "\n",
    "# Example Usage\n",
    "# question = query\n",
    "# context = [node.text for node in retrieved_nodes]\n",
    "# print(\"Question: \", question)\n",
    "# print(\"Relevent Passages:\")\n",
    "# for i in range(4):\n",
    "#     print(context[i])\n",
    "#     print('--------------------------------------')\n",
    "# answer = generate_response(question, context)\n",
    "# print(\"Generated Response:\")\n",
    "# print(answer)\n",
    "\n"
   ]
  },
  {
   "cell_type": "code",
   "execution_count": 56,
   "metadata": {},
   "outputs": [],
   "source": [
    "import random\n",
    "\n",
    "qa_list = []\n",
    "\n",
    "for data in dataset:\n",
    "    if len(data[\"answers\"][\"text\"]) == 0:\n",
    "        continue\n",
    "    qa_list.append((data[\"question\"], data[\"answers\"][\"text\"][0]))\n",
    "\n",
    "num_samples = 2\n",
    "qa_list = random.sample(qa_list, num_samples)\n"
   ]
  },
  {
   "cell_type": "code",
   "execution_count": 57,
   "metadata": {},
   "outputs": [
    {
     "name": "stderr",
     "output_type": "stream",
     "text": [
      "Setting `pad_token_id` to `eos_token_id`:128001 for open-end generation.\n"
     ]
    },
    {
     "name": "stderr",
     "output_type": "stream",
     "text": [
      "Setting `pad_token_id` to `eos_token_id`:128001 for open-end generation.\n"
     ]
    },
    {
     "name": "stdout",
     "output_type": "stream",
     "text": [
      "Query:  দ্বিতীয় বিশ্বযুদ্ধে কোন পক্ষের জয় হয় ?\n",
      "Prediction:  ### Instruction: সত্যজিত রায় কোন দেশের একজন বিখ্যাত চলচ্চিত্র পরিচালক? ### Input: সত্যজিৎ রায় একজন ভা�\n",
      "Ground Truth:  মিত্রশক্তি\n",
      "Context:  ['১ দ্বিতীয় বিশ্বযুদ্ধ পরিসমাপ্তির পরপরই ১৯৪৫ সালে তৎকালীন ওয়ারেন্ট অফিসার লিন্ডসে হ্যাসেটের নেতৃত্বাধীন অস্ট্রেলিয়ান সার্ভিসেস দল ইংল্যান্ডের বিপক্ষে পাঁচটি ভিক্টরি টেস্টে অংশগ্রহণ করে। সিরিজটি ২-২ ব্যবধানে শেষ হয় ও একটি টেস্ট ড্রয়ে পরিণত হয়। কিন্তু ঐ টেস্টগুলো পূর্ণাঙ্গ টেস্টের মর্যাদা পায়নি। ২ একটি টাইসহ। ৩ ১৯৭১-৭২ মৌসুমে পূর্ব সিদ্ধান্তমাফিক দক্ষিণ আফ্রিকা দলের অস্ট্রেলিয়া সফর বাতিল হয়। এর পরিবর্তে বিশ্ব একাদশ পাঁচ টেস্টের সিরিজে অংশগ্রহণ করে। সিরিজের সবগুলো টেস্টেই ইয়ান চ্যাপেল অধিনায়কত্ব করেন। বিশ্ব একাদশ ২-১ ব্যবধানে সিরিজ জয় করে। কিন্তু টেস্টগুলো স্বীকৃতি পায়নি। ৪ইয়ান চ্যাপেল ও গ্রেগ চ্যাপেল সহোদর ভাই। ভিক রিচার্ডসন সম্পর্কে তাঁদের দাদা।', '১৯৪১ সালের ৭ ডিসেম্বর যুক্তরাষ্ট্র মিত্রশক্তির সাথে যোগ দেয়। মূলত জার্মানি এবং জাপান দুই অক্ষশক্তিই যুক্তরাষ্ট্রে আক্রমণ করার মাধ্যমে একে যুদ্ধে ডেকে আনে। অপরদিকে চীনের সাথে জাপানের ছিল পুরাতন শত্রুতা; ১৯৩০ সালের মাঝামাঝি সময় থেকেই এই দুই দেশের মধ্যে দ্বিতীয় চীন-জাপান যুদ্ধ চলছিল। এর ফলে চীনও মিত্রপক্ষে যোগদান করে। ১৯৪৫ সালে জার্মানি এবং জাপান উভয় দেশের নিঃশর্ত আত্মসমর্পনের মধ্য দিয়েই দ্বিতীয় বিশ্বযুদ্ধের সমাপ্তি ঘটে।', 'দ্বিতীয় বিশ্বযুদ্ধ (English: World WarII, Second World War, WWII, WW2) মানবসভ্যতার ইতিহাসে এ যাবৎকাল পর্যন্ত সংঘটিত সর্ববৃহৎ এবং সবচেয়ে ভয়াবহ যুদ্ধ। ১৯৩৯ সাল থেকে ১৯৪৫ সাল, এই ছয় বছর দ্বিতীয় বিশ্বযুদ্ধের সময়সীমা ধরা হলেও ১৯৩৯ সালের আগে এশিয়ায় সংগঠিত কয়েকটি সংঘর্ষকে দ্বিতীয় বিশ্বযুদ্ধের অংশ হিসেবে গণ্য করা হয়। তৎকালীন বিশ্বে সকল পরাশক্তি এবং বেশিরভাগ রাষ্ট্রই এই যুদ্ধে জড়িয়ে পড়ে এবং দুইটি বিপরীত সামরিক জোটের সৃষ্টি হয়; মিত্রশক্তি আর অক্ষশক্তি। এই মহাসমরকে ইতিহাসের সবচেয়ে বিস্তৃত যুদ্ধ বলে ধরা হয়, যাতে ৩০টি দেশের সব মিলিয়ে ১০ কোটিরও বেশি সামরিক সদস্য অংশগ্রহণ করে। অংশগ্রহণকারী রাষ্ট্রসমূহ খুব দ্রুত একটি সামগ্রিক যুদ্ধে জড়িয়ে পড়ে এবং সামরিক ও বেসামরিক সম্পদের মধ্যে কোনরকম পার্থক্য না করে তাদের পূর্ণ অর্থনৈতিক, বাণিজ্যিক ও প্রযুক্তিগত সক্ষমতা প্রয়োগ করা শুরু করে। এছাড়া বেসামরিক জনগণের উপর চালানো নির্বিচার গণহত্যা, হলোকস্ট (হিটলার কর্তৃক ইহুদীদের উপর চালানো গণহত্যা), পৃথিবীর ইতিহাসে একমাত্র পারমাণবিক অস্ত্রের প্রয়োগ প্রভৃতি ঘটনায় কুখ্যাত এই যুদ্ধে প্রায় ৫ কোটি থেকে সাড়ে ৮ কোটি মানুষ মৃত্যুবরণ করে। এসব পরিসংখ্যান এটাই প্রমাণ করে যে এটাই পৃথিবীর ইতিহাসে নৃশংসতম যুদ্ধ।[1]', 'দুই দলের মধ্যে সবচেয়ে বড় জয় পেয়েছে আর্জেন্টিনা, তারা ৬-১ গোলের ব্যবধানে ব্রাজিলকে পরাজিত করে (বুয়েনোস আইরেস, ১৯৪০)। এছাড়া, তারা ১-৫ গোলের ব্যবধানেও জয় পেয়েছে (রিউ দি জানেইরু, ১৯৩৯)। ব্রাজিলের বড় জয়গুলো হল ৬-২ গোলের ব্যবধানে (রিউ দি জানেইরু, ১৯৪৫ ও ১৯৬০) এবং ১-৪ গোলের ব্যবধানে (বুয়েনোস আইরেস, ১৯৬০)।[8]']\n",
      "f1_score:  0\n",
      "em:  False\n",
      "------------\n",
      "Query:  আদি ব্রাহ্ম সমাজ কার নেতৃত্বে গড়ে ওঠে ?\n",
      "Prediction:  ### Instruction: কোন সংগঠন আদি ব্রাহ্ম সমাজকে প্রতিষ্ঠিত করে? ### Input: [\"রাজা রামমোহন রায় ১৮২৯ সালে এ�\n",
      "Ground Truth:  দেবেন্দ্রনাথ ঠাকুর\n",
      "Context:  [\"'ভারতীয় নবজাগরণের অগ্রদূত' রাজা রামমোহন রায় ১৮২৯ সালে একেশ্বরবাদ প্রচারের উদ্দেশ্যে 'ব্রাহ্মসমাজ' প্রতিষ্ঠা করেন। বেদান্ত ছিল তাঁর ধর্ম সাধনার মূল ভিত্তি। ১৮৩৪ সালে তাঁর মৃত্যুর পর দেবেন্দ্রনাথ ঠাকুর ব্রাহ্মসমাজের নেতৃত্ব গ্রহণ করেন।এই দেবেন্দ্রনাথ ঠাকুর এর ব্রাহ্মসমাজই পরবর্তীকালে 'আদি ব্রাহ্মসমাজ ' নামে পরিচিত হয়।\", 'রামমোহন রায় কলকাতায় আগস্ট ২০, ১৮২৮ সালে ইংল্যান্ড যাত্রার আগে দ্বারকানাথ ঠাকুরের সঙ্গে যৌথ উদ্যোগে ব্রাহ্মসমাজ স্থাপন করেন। পরবর্তীকালে এই ব্রাহ্মসমাজ এক সামাজিক ও ধর্মীয় আন্দোলন এবং বাংলার পুনর্জাগরণের পুরোধা হিসাবে কাজ করে।', \"১৮৩৩ সালে ইংল্যান্ডে রামমোহন রায় মারা যাওয়ার পর ধর্মীয় সংস্কার আন্দোলনটি বাধার সম্মুখীন হয়। রামমোহনের ঘনিষ্ঠ বন্ধু ও সহযোগী দ্বারকানাথ ঠাকুরের (১৭৯৪-১৮৪৬) পুত্র দেবেন্দ্রনাথ ঠাকুর (১৮১৭-১৯০৫) কাজটি হাতে নেন। তাঁর নেতৃত্বে ব্রাহ্ম সমাজ আন্দোলনটি নতুন মাত্রা ও বৈশিষ্ট্য পরিগ্রহ করে। তিনি ১৮৩৯ সালে তত্ত্ববোধিনী সভা নামে একটি সমিতি প্রতিষ্ঠা করেন যা এই নতুন ধর্মমত প্রচারে ভীষণভাবে সচেষ্ট হয়। তিনি তত্ত্ববোধিনী পত্রিকা নামে একটি সংবাদপত্রও প্রকাশ করেন যেটি এ নতুন ধর্মবিশ্বাস প্রচারের সঙ্গে সঙ্গে সামাজিক সংস্কার সাধনের পক্ষেও জনমত গড়ে তোলে। এ সময়ে হিন্দুধর্মের বিপক্ষে খ্রিষ্টান ধর্ম প্রচারকদের অত্যধিক আক্রমণাত্মক প্রচারণা চলছিল। ব্রাহ্ম সমাজের মধ্য থেকে আমূল সংস্কারের সমর্থক শ্রেণীটি বেদ যে অভ্রান্ত এ বিষয়টি নিয়ে প্রশ্ন তুলতে শুরু করে। এঁদের মধ্যে সবচেয়ে উল্লেখযোগ্য ছিলেন অক্ষয়কুমার দত্ত (১৮২০-১৮৮৬)। ঐ সময় পর্যন্ত বেদ যে অভ্রান্ত সেটা ব্রাহ্ম ধর্মীয় বিশ্বাসের অবিচ্ছেদ্য অংশ বলে বিবেচিত হতো। ১৮৪৭ সালের দিকে পুঙ্খানুপুঙ্খ সমীক্ষার পর ব্রাহ্ম নেতৃবৃন্দের মনে দৃঢপ্রত্যয় জন্মে যে, বেদের অভ্রান্ততার মতবাদ আর গ্রহণযোগ্য নয়। তাই একেশ্বরবাদী ধারণা সম্বলিত উপনিষদের নির্বাচিত অংশসমূহের ওপর ভিত্তি করে ব্রাহ্ম ধর্মবিশ্বাস পুনর্নিমাণের প্রচেষ্টা নেওয়া হয়। ব্রাহ্ম সমাজের সংশোধিত মতবাদটি ১৮৫০ সালে 'ব্রাহ্ম ধর্ম' অথবা 'এক সত্য ঈশ্বরের পূজারীদের ধর্ম' নামে পুস্তকাকারে প্রকাশিত হয়। এটা উল্লেখ করতে হয় যে, যদিও বেদকে অস্বীকার করা হয়, তবুও ব্রাহ্ম আন্দোলনের অপরিহার্য হিন্দু চরিত্র ধরে রাখা হয়। রামমোহন রায়ের মৃত্যুর পর অনেকটা মৃতপ্রায় ব্রাহ্ম সমাজে দেবেন্দ্রনাথ নতুন জীবনের সূচনা করেন। কেশবচন্দ্র সেনের (১৮৩৮-১৮৮৪) প্রগতিশীল নেতৃত্বে আন্দোলনটি আরও ব্যাপক ভিত্তি লাভ করে। তিনি ১৮৫৭ সালে ব্রাহ্ম সমাজে যোগদান করেন এবং এক বছরের মধ্যে দেবেন্দ্রনাথের ডান হাতে পরিণত হন। কিন্তু প্রধানত বর্ণপ্রথা পালন ও সামাজিক সংস্কারসমূহকে কেন্দ্র করে তাঁদের দুজনের মধ্যে মতপার্থক্য দেখা দেয়। যেখানে দেবেন্দ্রনাথের পদ্ধতি ছিল কিছুটা রক্ষণশীল, সেখানে কেশবচন্দ্র সেন জাতিভেদ প্রথা পুরোপুরি বিলোপ করার পক্ষে মত প্রকাশ করেন এবং সমাজ সংস্কার সাধনের উদ্দেশ্যে সক্রিয়ভাবে এগিয়ে যান, বিশেষত স্ত্রীশিক্ষা ও নারীমুক্তি আন্দোলনে। ১৮৬৮ সালে কেশবচন্দ্র সেন ভারতের ব্রাহ্ম সমাজ নামে একটি নতুন সংগঠন গড়ে তোলেন। দেবেন্দ্রনাথ ঠাকুরের নেতৃত্বে অন্য সংগঠনটি আদি ব্রাহ্ম সমাজ নামে পরিচিতি লাভ করে। বোম্বাই, মাদ্রাজ ও অন্যান্য স্থানে বক্তৃতা-সফরের মাধ্যমে কেশবচন্দ্র সেন ভারতের বৃহৎ অংশব্যাপী ব্রাহ্ম সমাজের বাণী ছড়িয়ে দেন। প্রধানত তিনি উদ্যোগ গ্রহণ করার ফলে ১৮৭২ সালে সিভিল বিবাহ আইন পাস হয়। এটি ধর্মীয় আচারাদি পালন ব্যতিরেকে অযাজকীয় বিবাহ অনুষ্ঠানের বিধান প্রবর্তন করে। আইনটি একবিবাহকেও বাধ্যতামূলক করে এবং কনে ও বরের বয়সের নিম্নসীমাও যথাক্রমে ১৪ ও ১৮ বছরে নির্ধারিত করে দেয়।\", 'ব্রাহ্মসমাজ বা ব্রাহ্মসভা ১৯ শতকে স্থাপিত এক সামাজিক ও ধর্মীয় আন্দোলন যা বাংলার পূনর্জাগরণের পুরোধা হিসেবে পরিচিত। কলকাতায় আগস্ট ২০, ১৮২৮ সালে হিন্দুধর্ম সংস্কারক রাজা রামমোহন রায় (১৭৭২-১৮৩৩) ও তার বন্ধুবর্গ মিলে এক সার্বজনীন উপাসনার মাধ্যমে ব্রাহ্মসমাজ শুরু করেন। তাঁদের উপাস্য ছিল \"নিরাকার ব্রহ্ম\", তাই থেকেই নিজেদের ধর্মের নাম রাখেন ব্রাহ্ম।']\n",
      "f1_score:  0\n",
      "em:  False\n",
      "------------\n",
      "f1_score:  0.0\n",
      "em:  0.0\n"
     ]
    }
   ],
   "source": [
    "from llama_index.core.evaluation.benchmarks.hotpotqa import f1_score, exact_match_score\n",
    "\n",
    "total_f1_with_rag=0\n",
    "total_em_with_rag=0\n",
    "\n",
    "for qa in qa_list:\n",
    "    query = qa[0]\n",
    "    retrieved_nodes = retriever.retrieve(query)\n",
    "    context = [node.text for node in retrieved_nodes]\n",
    "    prediction = generate_response(query, context)\n",
    "    ground_truth = qa[1]\n",
    "    total_f1_with_rag += f1_score(prediction=prediction, ground_truth=ground_truth)[0]\n",
    "    if exact_match_score(prediction=prediction, ground_truth=ground_truth):\n",
    "        total_em_with_rag += 1\n",
    "    print(\"Query: \", query)\n",
    "    print(\"Prediction: \", prediction)\n",
    "    print(\"Ground Truth: \", ground_truth)\n",
    "    print(\"Context: \",context)\n",
    "    print(\"f1_score: \",f1_score(prediction=prediction, ground_truth=ground_truth)[0])\n",
    "    print(\"em: \",exact_match_score(prediction=prediction, ground_truth=ground_truth))\n",
    "    print(\"------------\")\n",
    "    \n",
    "\n",
    "avg_f1_with_rag = total_f1_with_rag / num_samples\n",
    "avg_em_with_rag = total_em_with_rag / num_samples\n",
    "\n",
    "print(\"f1_score: \",avg_f1_with_rag)\n",
    "print(\"em: \",avg_em_with_rag)"
   ]
  },
  {
   "cell_type": "code",
   "execution_count": null,
   "metadata": {},
   "outputs": [],
   "source": [
    "\n",
    "total_f1_without_rag=0\n",
    "total_em_without_rag=0\n",
    "\n",
    "for qa in qa_list:\n",
    "    query = qa[0]\n",
    "    prediction = generate_response(query, ' ' )\n",
    "    ground_truth = qa[1]\n",
    "    total_f1_without_rag += f1_score(prediction=prediction, ground_truth=ground_truth)[0]\n",
    "    if exact_match_score(prediction=prediction, ground_truth=ground_truth):\n",
    "        total_em_without_rag += 1\n",
    "    print(\"Query: \", query)\n",
    "    print(\"Prediction: \", prediction)\n",
    "    print(\"Ground Truth: \", ground_truth)\n",
    "    print(\"f1_score: \",f1_score(prediction=prediction, ground_truth=ground_truth)[0])\n",
    "    print(\"em: \",exact_match_score(prediction=prediction, ground_truth=ground_truth))\n",
    "    print(\"------------\")\n",
    "    \n",
    "\n",
    "avg_f1_without_rag = total_f1_without_rag / num_samples\n",
    "avg_em_without_rag = total_em_without_rag / num_samples\n",
    "\n",
    "print(\"f1_score: \",avg_f1_without_rag)\n",
    "print(\"em: \",avg_em_without_rag)"
   ]
  }
 ],
 "metadata": {
  "kernelspec": {
   "display_name": "Python 3",
   "language": "python",
   "name": "python3"
  },
  "language_info": {
   "codemirror_mode": {
    "name": "ipython",
    "version": 3
   },
   "file_extension": ".py",
   "mimetype": "text/x-python",
   "name": "python",
   "nbconvert_exporter": "python",
   "pygments_lexer": "ipython3",
   "version": "3.10.14"
  },
  "orig_nbformat": 4,
  "vscode": {
   "interpreter": {
    "hash": "a7082a2de1763f9bfdb343e74108cd58a518941a5834845ff64123425c016e87"
   }
  }
 },
 "nbformat": 4,
 "nbformat_minor": 2
}
